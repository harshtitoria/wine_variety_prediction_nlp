{
  "nbformat": 4,
  "nbformat_minor": 0,
  "metadata": {
    "colab": {
      "name": "wine_varity_prediction.ipynb",
      "provenance": [],
      "collapsed_sections": [],
      "machine_shape": "hm"
    },
    "kernelspec": {
      "name": "python3",
      "display_name": "Python 3"
    }
  },
  "cells": [
    {
      "cell_type": "code",
      "metadata": {
        "id": "w28v3X7hGL9E",
        "colab_type": "code",
        "colab": {
          "base_uri": "https://localhost:8080/",
          "height": 238
        },
        "outputId": "cf47b525-9a48-4027-e819-7e1615eb2e4b"
      },
      "source": [
        "# Natural Language Processing\n",
        "\n",
        "# Importing the libraries\n",
        "import numpy as np\n",
        "import matplotlib.pyplot as plt\n",
        "import pandas as pd\n",
        "\n",
        "# Importing the dataset\n",
        "training_data = pd.read_csv('/content/drive/My Drive/Colab Notebooks/wine-dataset/train.csv')\n",
        "test_data = pd.read_csv('/content/drive/My Drive/Colab Notebooks/wine-dataset/test.csv')\n",
        "\n",
        "#lets look at null values\n",
        "training_data.isnull().sum()\n"
      ],
      "execution_count": 1,
      "outputs": [
        {
          "output_type": "execute_result",
          "data": {
            "text/plain": [
              "user_name             19393\n",
              "country                  35\n",
              "review_title              0\n",
              "review_description        0\n",
              "designation           23647\n",
              "points                    0\n",
              "price                  5569\n",
              "province                 35\n",
              "region_1              12754\n",
              "region_2              46708\n",
              "winery                    0\n",
              "variety                   0\n",
              "dtype: int64"
            ]
          },
          "metadata": {
            "tags": []
          },
          "execution_count": 1
        }
      ]
    },
    {
      "cell_type": "code",
      "metadata": {
        "id": "fDtSHArqIiKK",
        "colab_type": "code",
        "colab": {
          "base_uri": "https://localhost:8080/",
          "height": 238
        },
        "outputId": "13bb2e23-e2a0-4f77-d4ce-9a5d4b63dede"
      },
      "source": [
        "#Remove rows with null values in reviw_descrption column as we only require that column\n",
        "df_train = training_data[training_data.review_description.notnull()]\n",
        "df_test = test_data[test_data.review_description.notnull()]\n",
        "#Replacing NaN values with mean in price column\n",
        "df_train['price'].fillna((df_train['price'].mean()), inplace=True)\n",
        "df_test['price'].fillna((df_test['price'].mean()), inplace=True)\n",
        "\n",
        "#we can see there are zero null values in price column now\n",
        "df_train.isnull().sum()\n"
      ],
      "execution_count": 2,
      "outputs": [
        {
          "output_type": "execute_result",
          "data": {
            "text/plain": [
              "user_name             19393\n",
              "country                  35\n",
              "review_title              0\n",
              "review_description        0\n",
              "designation           23647\n",
              "points                    0\n",
              "price                     0\n",
              "province                 35\n",
              "region_1              12754\n",
              "region_2              46708\n",
              "winery                    0\n",
              "variety                   0\n",
              "dtype: int64"
            ]
          },
          "metadata": {
            "tags": []
          },
          "execution_count": 2
        }
      ]
    },
    {
      "cell_type": "code",
      "metadata": {
        "id": "kjJFqAVBxJ6J",
        "colab_type": "code",
        "colab": {
          "base_uri": "https://localhost:8080/",
          "height": 357
        },
        "outputId": "55124f2c-5e7e-4e78-e26c-1f7e4ca71d75"
      },
      "source": [
        "df_train.head()"
      ],
      "execution_count": 3,
      "outputs": [
        {
          "output_type": "execute_result",
          "data": {
            "text/html": [
              "<div>\n",
              "<style scoped>\n",
              "    .dataframe tbody tr th:only-of-type {\n",
              "        vertical-align: middle;\n",
              "    }\n",
              "\n",
              "    .dataframe tbody tr th {\n",
              "        vertical-align: top;\n",
              "    }\n",
              "\n",
              "    .dataframe thead th {\n",
              "        text-align: right;\n",
              "    }\n",
              "</style>\n",
              "<table border=\"1\" class=\"dataframe\">\n",
              "  <thead>\n",
              "    <tr style=\"text-align: right;\">\n",
              "      <th></th>\n",
              "      <th>user_name</th>\n",
              "      <th>country</th>\n",
              "      <th>review_title</th>\n",
              "      <th>review_description</th>\n",
              "      <th>designation</th>\n",
              "      <th>points</th>\n",
              "      <th>price</th>\n",
              "      <th>province</th>\n",
              "      <th>region_1</th>\n",
              "      <th>region_2</th>\n",
              "      <th>winery</th>\n",
              "      <th>variety</th>\n",
              "    </tr>\n",
              "  </thead>\n",
              "  <tbody>\n",
              "    <tr>\n",
              "      <th>0</th>\n",
              "      <td>NaN</td>\n",
              "      <td>Australia</td>\n",
              "      <td>Andrew Peace 2007 Peace Family Vineyard Chardo...</td>\n",
              "      <td>Classic Chardonnay aromas of apple, pear and h...</td>\n",
              "      <td>Peace Family Vineyard</td>\n",
              "      <td>83</td>\n",
              "      <td>10.0</td>\n",
              "      <td>Australia Other</td>\n",
              "      <td>South Eastern Australia</td>\n",
              "      <td>NaN</td>\n",
              "      <td>Andrew Peace</td>\n",
              "      <td>Chardonnay</td>\n",
              "    </tr>\n",
              "    <tr>\n",
              "      <th>1</th>\n",
              "      <td>@wawinereport</td>\n",
              "      <td>US</td>\n",
              "      <td>North by Northwest 2014 Red (Columbia Valley (...</td>\n",
              "      <td>This wine is near equal parts Syrah and Merlot...</td>\n",
              "      <td>NaN</td>\n",
              "      <td>89</td>\n",
              "      <td>15.0</td>\n",
              "      <td>Washington</td>\n",
              "      <td>Columbia Valley (WA)</td>\n",
              "      <td>Columbia Valley</td>\n",
              "      <td>North by Northwest</td>\n",
              "      <td>Red Blend</td>\n",
              "    </tr>\n",
              "    <tr>\n",
              "      <th>2</th>\n",
              "      <td>NaN</td>\n",
              "      <td>Italy</td>\n",
              "      <td>Renato Ratti 2007 Conca  (Barolo)</td>\n",
              "      <td>Barolo Conca opens with inky dark concentratio...</td>\n",
              "      <td>Conca</td>\n",
              "      <td>94</td>\n",
              "      <td>80.0</td>\n",
              "      <td>Piedmont</td>\n",
              "      <td>Barolo</td>\n",
              "      <td>NaN</td>\n",
              "      <td>Renato Ratti</td>\n",
              "      <td>Nebbiolo</td>\n",
              "    </tr>\n",
              "    <tr>\n",
              "      <th>3</th>\n",
              "      <td>@vossroger</td>\n",
              "      <td>France</td>\n",
              "      <td>Domaine l'Ancienne Cure 2010 L'Abbaye White (B...</td>\n",
              "      <td>It's impressive what a small addition of Sauvi...</td>\n",
              "      <td>L'Abbaye</td>\n",
              "      <td>87</td>\n",
              "      <td>22.0</td>\n",
              "      <td>Southwest France</td>\n",
              "      <td>Bergerac Sec</td>\n",
              "      <td>NaN</td>\n",
              "      <td>Domaine l'Ancienne Cure</td>\n",
              "      <td>Bordeaux-style White Blend</td>\n",
              "    </tr>\n",
              "    <tr>\n",
              "      <th>4</th>\n",
              "      <td>@vossroger</td>\n",
              "      <td>France</td>\n",
              "      <td>Château du Cèdre 2012 Le Cèdre Vintage Malbec ...</td>\n",
              "      <td>This ripe, sweet wine is rich and full of drie...</td>\n",
              "      <td>Le Cèdre Vintage</td>\n",
              "      <td>88</td>\n",
              "      <td>33.0</td>\n",
              "      <td>France Other</td>\n",
              "      <td>Vin de Liqueur</td>\n",
              "      <td>NaN</td>\n",
              "      <td>Château du Cèdre</td>\n",
              "      <td>Malbec</td>\n",
              "    </tr>\n",
              "  </tbody>\n",
              "</table>\n",
              "</div>"
            ],
            "text/plain": [
              "       user_name  ...                     variety\n",
              "0            NaN  ...                  Chardonnay\n",
              "1  @wawinereport  ...                   Red Blend\n",
              "2            NaN  ...                    Nebbiolo\n",
              "3     @vossroger  ...  Bordeaux-style White Blend\n",
              "4     @vossroger  ...                      Malbec\n",
              "\n",
              "[5 rows x 12 columns]"
            ]
          },
          "metadata": {
            "tags": []
          },
          "execution_count": 3
        }
      ]
    },
    {
      "cell_type": "code",
      "metadata": {
        "id": "rsCJ-ilnJb1g",
        "colab_type": "code",
        "colab": {
          "base_uri": "https://localhost:8080/",
          "height": 350
        },
        "outputId": "f051ca0b-e3e7-42ee-dbdd-9ba51245e631"
      },
      "source": [
        "# OR we can drop all rows with NaN values but it will largely reduces our dataset, so not using it. \n",
        "\"\"\"\n",
        "df_train = training_data.dropna()\n",
        "df_test = test_data.dropna()\n",
        "\"\"\"\n",
        "\n",
        "#We will visualize our data using Seaborn. This will allow us to see \n",
        "#if there is a strong correlation between different data points \n",
        "import seaborn as sns\n",
        "sns.barplot(x = 'points', y = 'price', data = df_train)"
      ],
      "execution_count": 4,
      "outputs": [
        {
          "output_type": "stream",
          "text": [
            "/usr/local/lib/python3.6/dist-packages/statsmodels/tools/_testing.py:19: FutureWarning: pandas.util.testing is deprecated. Use the functions in the public API at pandas.testing instead.\n",
            "  import pandas.util.testing as tm\n"
          ],
          "name": "stderr"
        },
        {
          "output_type": "execute_result",
          "data": {
            "text/plain": [
              "<matplotlib.axes._subplots.AxesSubplot at 0x7f14829b0ac8>"
            ]
          },
          "metadata": {
            "tags": []
          },
          "execution_count": 4
        },
        {
          "output_type": "display_data",
          "data": {
            "image/png": "[encoded data removed]",
            "text/plain": [
              "<Figure size 432x288 with 1 Axes>"
            ]
          },
          "metadata": {
            "tags": [],
            "needs_background": "light"
          }
        }
      ]
    },
    {
      "cell_type": "code",
      "metadata": {
        "id": "-1ZCD0czJvKx",
        "colab_type": "code",
        "colab": {
          "base_uri": "https://localhost:8080/",
          "height": 296
        },
        "outputId": "06f1a98d-1e3f-4783-e0e6-b94a7a51ef83"
      },
      "source": [
        "sns.boxplot(x = 'points', y = 'price', data = df_train)"
      ],
      "execution_count": 5,
      "outputs": [
        {
          "output_type": "execute_result",
          "data": {
            "text/plain": [
              "<matplotlib.axes._subplots.AxesSubplot at 0x7f14823df1d0>"
            ]
          },
          "metadata": {
            "tags": []
          },
          "execution_count": 5
        },
        {
          "output_type": "display_data",
          "data": {
            "image/png": "[encoded data removed]",
            "text/plain": [
              "<Figure size 432x288 with 1 Axes>"
            ]
          },
          "metadata": {
            "tags": [],
            "needs_background": "light"
          }
        }
      ]
    },
    {
      "cell_type": "code",
      "metadata": {
        "id": "UJZ5hq1OJ7tu",
        "colab_type": "code",
        "colab": {}
      },
      "source": [
        "from sklearn.feature_extraction.text import CountVectorizer\n",
        "from nltk.stem.porter import PorterStemmer\n",
        "import re"
      ],
      "execution_count": 0,
      "outputs": []
    },
    {
      "cell_type": "code",
      "metadata": {
        "id": "_mI-jC41J_77",
        "colab_type": "code",
        "colab": {}
      },
      "source": [
        "ps = PorterStemmer()\n",
        "# Use NLTK's PorterStemmer\n",
        "def stemming_tokenizer(str_input):\n",
        "    words = re.sub(r\"[^A-Za-z0-9\\-]\", \" \", str_input).lower().split()\n",
        "    words = [ps.stem(word) for word in words]\n",
        "    return words\n",
        "\n",
        "#cleaning the text and creating a bag of words model.\n",
        "def feature_matrix(review):\n",
        "    #cv = CountVectorizer(lowercase=True, stop_words=\"english\",ngram_range=(1, 2), max_features=4000)\n",
        "    cv = CountVectorizer(lowercase=True, stop_words=\"english\", tokenizer=stemming_tokenizer,max_features=5000)\n",
        "    x = cv.fit_transform(np.array(review))\n",
        "    return x, cv"
      ],
      "execution_count": 0,
      "outputs": []
    },
    {
      "cell_type": "code",
      "metadata": {
        "id": "Jw8_a65bKct8",
        "colab_type": "code",
        "colab": {
          "base_uri": "https://localhost:8080/",
          "height": 71
        },
        "outputId": "04277b41-54f1-4213-ecf3-70170c52df3f"
      },
      "source": [
        "#calling vector and vectorizer\n",
        "x, cv = feature_matrix(df_train['review_description'])\n",
        "\n",
        "x = x.todense()\n",
        "y = df_train['variety']"
      ],
      "execution_count": 8,
      "outputs": [
        {
          "output_type": "stream",
          "text": [
            "/usr/local/lib/python3.6/dist-packages/sklearn/feature_extraction/text.py:385: UserWarning: Your stop_words may be inconsistent with your preprocessing. Tokenizing the stop words generated tokens ['abov', 'afterward', 'alon', 'alreadi', 'alway', 'ani', 'anoth', 'anyon', 'anyth', 'anywher', 'becam', 'becaus', 'becom', 'befor', 'besid', 'cri', 'describ', 'dure', 'els', 'elsewher', 'empti', 'everi', 'everyon', 'everyth', 'everywher', 'fifti', 'formerli', 'forti', 'ha', 'henc', 'hereaft', 'herebi', 'hi', 'howev', 'hundr', 'inde', 'latterli', 'mani', 'meanwhil', 'moreov', 'mostli', 'nobodi', 'noon', 'noth', 'nowher', 'onc', 'onli', 'otherwis', 'ourselv', 'perhap', 'pleas', 'seriou', 'sever', 'sinc', 'sincer', 'sixti', 'someon', 'someth', 'sometim', 'somewher', 'themselv', 'thenc', 'thereaft', 'therebi', 'therefor', 'thi', 'thu', 'togeth', 'twelv', 'twenti', 'veri', 'wa', 'whatev', 'whenc', 'whenev', 'wherea', 'whereaft', 'wherebi', 'wherev', 'whi', 'yourselv'] not in stop_words.\n",
            "  'stop_words.' % sorted(inconsistent))\n"
          ],
          "name": "stderr"
        }
      ]
    },
    {
      "cell_type": "code",
      "metadata": {
        "id": "_2k7AnZLQBgS",
        "colab_type": "code",
        "colab": {}
      },
      "source": [
        "# Applying k-Fold Cross Validation for accuracy\n",
        "from sklearn.model_selection import cross_val_score\n",
        "def accuracy(classifier):\n",
        "  accuracies = cross_val_score(estimator = classifier, X = x_test, y = y_test, cv = 10)\n",
        "  return accuracies.mean(), accuracies.std()"
      ],
      "execution_count": 0,
      "outputs": []
    },
    {
      "cell_type": "code",
      "metadata": {
        "id": "aIMdkI7O8HKj",
        "colab_type": "code",
        "colab": {}
      },
      "source": [
        "#splitting the dataset\n",
        "from sklearn.model_selection import train_test_split\n",
        "x_train, x_test, y_train, y_test = train_test_split(x, y, test_size = 0.2, random_state = 0 )"
      ],
      "execution_count": 0,
      "outputs": []
    },
    {
      "cell_type": "code",
      "metadata": {
        "id": "EIJhIZxFK_ZR",
        "colab_type": "code",
        "colab": {
          "base_uri": "https://localhost:8080/",
          "height": 54
        },
        "outputId": "df83789d-f326-442b-d83f-b28131a2c6ca"
      },
      "source": [
        "#Fitting logistic_regression classifier\n",
        "from sklearn.linear_model import LogisticRegression\n",
        "logireg = LogisticRegression(multi_class='ovr',solver='lbfgs',max_iter=10000)\n",
        "logireg = logireg.fit(x_train, y_train)\n",
        "print(\"The accuracy and standard deviation for our logistic regression model is {}\".format(accuracy(logireg)))"
      ],
      "execution_count": 11,
      "outputs": [
        {
          "output_type": "stream",
          "text": [
            "The accuracy and standard deviation for our logistic regression model is (0.6465041026867715, 0.011937988999467098)\n"
          ],
          "name": "stdout"
        }
      ]
    },
    {
      "cell_type": "code",
      "metadata": {
        "id": "xQ8aX14WQDgb",
        "colab_type": "code",
        "colab": {
          "base_uri": "https://localhost:8080/",
          "height": 71
        },
        "outputId": "ba150bff-885a-4b5e-ac88-2d457d0882da"
      },
      "source": [
        "#For test_data\n",
        "x1, cv1 = feature_matrix(df_test['review_description'])\n",
        "x1 = x1.todense()\n",
        "\n",
        "y_pred = logireg.predict(x1)"
      ],
      "execution_count": 12,
      "outputs": [
        {
          "output_type": "stream",
          "text": [
            "/usr/local/lib/python3.6/dist-packages/sklearn/feature_extraction/text.py:385: UserWarning: Your stop_words may be inconsistent with your preprocessing. Tokenizing the stop words generated tokens ['abov', 'afterward', 'alon', 'alreadi', 'alway', 'ani', 'anoth', 'anyon', 'anyth', 'anywher', 'becam', 'becaus', 'becom', 'befor', 'besid', 'cri', 'describ', 'dure', 'els', 'elsewher', 'empti', 'everi', 'everyon', 'everyth', 'everywher', 'fifti', 'formerli', 'forti', 'ha', 'henc', 'hereaft', 'herebi', 'hi', 'howev', 'hundr', 'inde', 'latterli', 'mani', 'meanwhil', 'moreov', 'mostli', 'nobodi', 'noon', 'noth', 'nowher', 'onc', 'onli', 'otherwis', 'ourselv', 'perhap', 'pleas', 'seriou', 'sever', 'sinc', 'sincer', 'sixti', 'someon', 'someth', 'sometim', 'somewher', 'themselv', 'thenc', 'thereaft', 'therebi', 'therefor', 'thi', 'thu', 'togeth', 'twelv', 'twenti', 'veri', 'wa', 'whatev', 'whenc', 'whenev', 'wherea', 'whereaft', 'wherebi', 'wherev', 'whi', 'yourselv'] not in stop_words.\n",
            "  'stop_words.' % sorted(inconsistent))\n"
          ],
          "name": "stderr"
        }
      ]
    },
    {
      "cell_type": "code",
      "metadata": {
        "id": "d0HPFqUegOUH",
        "colab_type": "code",
        "colab": {}
      },
      "source": [
        "results = pd.Series(y_pred, name='varity')\n",
        "submission = pd.concat([df_test,results],axis = 1)\n",
        "submission.to_csv(\"wine_varity_test.csv\",index=False)"
      ],
      "execution_count": 0,
      "outputs": []
    }
  ]
}